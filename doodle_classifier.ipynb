{
  "nbformat": 4,
  "nbformat_minor": 0,
  "metadata": {
    "colab": {
      "provenance": []
    },
    "kernelspec": {
      "name": "python3",
      "display_name": "Python 3"
    },
    "language_info": {
      "name": "python"
    }
  },
  "cells": [
    {
      "cell_type": "code",
      "execution_count": null,
      "metadata": {
        "id": "oWvb-QqvIb90"
      },
      "outputs": [],
      "source": [
        "!mkdir data"
      ]
    },
    {
      "cell_type": "code",
      "source": [
        "cd data"
      ],
      "metadata": {
        "colab": {
          "base_uri": "https://localhost:8080/"
        },
        "id": "IGHfIRcqLXb-",
        "outputId": "0a123174-3eb0-4d34-c226-ce8a1c3e67ce"
      },
      "execution_count": null,
      "outputs": [
        {
          "output_type": "stream",
          "name": "stdout",
          "text": [
            "/content/data\n"
          ]
        }
      ]
    },
    {
      "cell_type": "code",
      "source": [
        "!wget https://storage.googleapis.com/quickdraw_dataset/full/numpy_bitmap/banana.npy"
      ],
      "metadata": {
        "colab": {
          "base_uri": "https://localhost:8080/"
        },
        "id": "xJ9E2x7wkKb9",
        "outputId": "c3f91e53-fc51-4a7e-c000-e03ec6cda752"
      },
      "execution_count": null,
      "outputs": [
        {
          "output_type": "stream",
          "name": "stdout",
          "text": [
            "--2023-07-04 15:02:59--  https://storage.googleapis.com/quickdraw_dataset/full/numpy_bitmap/banana.npy\n",
            "Resolving storage.googleapis.com (storage.googleapis.com)... 172.253.117.128, 142.250.99.128, 142.250.107.128, ...\n",
            "Connecting to storage.googleapis.com (storage.googleapis.com)|172.253.117.128|:443... connected.\n",
            "HTTP request sent, awaiting response... 200 OK\n",
            "Length: 241421904 (230M) [application/octet-stream]\n",
            "Saving to: ‘banana.npy’\n",
            "\n",
            "banana.npy          100%[===================>] 230.24M   197MB/s    in 1.2s    \n",
            "\n",
            "2023-07-04 15:03:00 (197 MB/s) - ‘banana.npy’ saved [241421904/241421904]\n",
            "\n"
          ]
        }
      ]
    },
    {
      "cell_type": "code",
      "source": [
        "!wget https://storage.googleapis.com/quickdraw_dataset/full/numpy_bitmap/apple.npy"
      ],
      "metadata": {
        "colab": {
          "base_uri": "https://localhost:8080/"
        },
        "id": "CTROTV86kpoD",
        "outputId": "a7faaa28-e953-4807-9461-b11c650e6568"
      },
      "execution_count": null,
      "outputs": [
        {
          "output_type": "stream",
          "name": "stdout",
          "text": [
            "--2023-07-04 15:03:00--  https://storage.googleapis.com/quickdraw_dataset/full/numpy_bitmap/apple.npy\n",
            "Resolving storage.googleapis.com (storage.googleapis.com)... 172.253.117.128, 142.250.99.128, 142.250.107.128, ...\n",
            "Connecting to storage.googleapis.com (storage.googleapis.com)|172.253.117.128|:443... connected.\n",
            "HTTP request sent, awaiting response... 200 OK\n",
            "Length: 113462128 (108M) [application/octet-stream]\n",
            "Saving to: ‘apple.npy’\n",
            "\n",
            "apple.npy           100%[===================>] 108.21M  26.0MB/s    in 4.0s    \n",
            "\n",
            "2023-07-04 15:03:04 (27.1 MB/s) - ‘apple.npy’ saved [113462128/113462128]\n",
            "\n"
          ]
        }
      ]
    },
    {
      "cell_type": "code",
      "source": [
        "!wget https://storage.googleapis.com/quickdraw_dataset/full/numpy_bitmap/pineapple.npy"
      ],
      "metadata": {
        "colab": {
          "base_uri": "https://localhost:8080/"
        },
        "id": "xIozbxl3k0OT",
        "outputId": "fdd93348-fdfe-4534-97fb-86d800849432"
      },
      "execution_count": null,
      "outputs": [
        {
          "output_type": "stream",
          "name": "stdout",
          "text": [
            "--2023-07-04 15:03:04--  https://storage.googleapis.com/quickdraw_dataset/full/numpy_bitmap/pineapple.npy\n",
            "Resolving storage.googleapis.com (storage.googleapis.com)... 74.125.197.128, 74.125.135.128, 74.125.142.128, ...\n",
            "Connecting to storage.googleapis.com (storage.googleapis.com)|74.125.197.128|:443... connected.\n",
            "HTTP request sent, awaiting response... 200 OK\n",
            "Length: 98055744 (94M) [application/octet-stream]\n",
            "Saving to: ‘pineapple.npy’\n",
            "\n",
            "pineapple.npy       100%[===================>]  93.51M   179MB/s    in 0.5s    \n",
            "\n",
            "2023-07-04 15:03:05 (179 MB/s) - ‘pineapple.npy’ saved [98055744/98055744]\n",
            "\n"
          ]
        }
      ]
    },
    {
      "cell_type": "code",
      "source": [
        "!wget https://storage.googleapis.com/quickdraw_dataset/full/numpy_bitmap/grapes.npy"
      ],
      "metadata": {
        "colab": {
          "base_uri": "https://localhost:8080/"
        },
        "id": "VA30VgrAlCoA",
        "outputId": "55e94e1e-b583-4adb-c437-a1b26d5a619e"
      },
      "execution_count": null,
      "outputs": [
        {
          "output_type": "stream",
          "name": "stdout",
          "text": [
            "--2023-07-04 15:03:05--  https://storage.googleapis.com/quickdraw_dataset/full/numpy_bitmap/grapes.npy\n",
            "Resolving storage.googleapis.com (storage.googleapis.com)... 74.125.197.128, 74.125.135.128, 74.125.142.128, ...\n",
            "Connecting to storage.googleapis.com (storage.googleapis.com)|74.125.197.128|:443... connected.\n",
            "HTTP request sent, awaiting response... 200 OK\n",
            "Length: 121759200 (116M) [application/octet-stream]\n",
            "Saving to: ‘grapes.npy’\n",
            "\n",
            "grapes.npy          100%[===================>] 116.12M   195MB/s    in 0.6s    \n",
            "\n",
            "2023-07-04 15:03:06 (195 MB/s) - ‘grapes.npy’ saved [121759200/121759200]\n",
            "\n"
          ]
        }
      ]
    },
    {
      "cell_type": "markdown",
      "source": [
        "https://console.cloud.google.com/storage/browser/quickdraw_dataset/full%2Fnumpy_bitmap%2F;tab=objects?prefix=&forceOnObjectsSortingFiltering=false"
      ],
      "metadata": {
        "id": "sIBMN4azmBec"
      }
    },
    {
      "cell_type": "code",
      "source": [
        "cd .."
      ],
      "metadata": {
        "colab": {
          "base_uri": "https://localhost:8080/"
        },
        "id": "b3wq7Ea9o-qL",
        "outputId": "8fef4980-5568-4c44-ffd6-cf8151397712"
      },
      "execution_count": null,
      "outputs": [
        {
          "output_type": "stream",
          "name": "stdout",
          "text": [
            "/content\n"
          ]
        }
      ]
    },
    {
      "cell_type": "code",
      "source": [
        "import tensorflow\n",
        "from tensorflow import keras\n",
        "from tensorflow.keras import Sequential\n",
        "from tensorflow.keras.layers import Dense,Flatten,Dropout,Conv2D,MaxPooling2D\n",
        "from keras.utils import np_utils"
      ],
      "metadata": {
        "id": "Baeg9Z5Eo6-c"
      },
      "execution_count": null,
      "outputs": []
    },
    {
      "cell_type": "code",
      "source": [
        "import os\n",
        "import glob\n",
        "import numpy as np\n",
        "from random import randint\n",
        "from PIL import Image\n",
        "\n",
        "from sklearn.model_selection import train_test_split as tts\n",
        "\n"
      ],
      "metadata": {
        "id": "RT5SiAUTlTJ0"
      },
      "execution_count": null,
      "outputs": []
    },
    {
      "cell_type": "code",
      "source": [],
      "metadata": {
        "id": "ho8YysCLlxO4"
      },
      "execution_count": null,
      "outputs": []
    },
    {
      "cell_type": "code",
      "source": [
        "N_FRUITS= 4;\n",
        "FRUITS={0:\"apple\", 1: \"banana\", 2: \"grapes\", 3: \"pineapple\"}\n",
        "N=5000 #number of samples taken from each class\n",
        "FILES={\"apple.npy\",\"banana.npy\",\"grapes.npy\",\"pineapple.npy\"}\n",
        "N_EPOCHS= 15"
      ],
      "metadata": {
        "id": "YjN-Dte5l0eD"
      },
      "execution_count": null,
      "outputs": []
    },
    {
      "cell_type": "code",
      "source": [
        "def load(dir, files, reshaped):\n",
        "    \"Load .npy or .npz files from disk and return them as numpy arrays. \\\n",
        "    Takes in a list of filenames and returns a list of numpy arrays.\"\n",
        "\n",
        "    data = []\n",
        "    for file in files:\n",
        "        f = np.load(dir + file)\n",
        "        if reshaped:\n",
        "            new_f = []\n",
        "            for i in range(len(f)):\n",
        "                x = np.reshape(f[i], (28, 28))\n",
        "                x = np.expand_dims(x, axis=0)\n",
        "                x = np.reshape(f[i], (28, 28, 1))\n",
        "                new_f.append(x)\n",
        "            f = new_f\n",
        "        data.append(f)\n",
        "    return data\n",
        "\n",
        "\n",
        "def normalize(data):\n",
        "    \"Takes a list or a list of lists and returns its normalized form\"\n",
        "\n",
        "    return np.interp(data, [0, 255], [-1, 1])\n",
        "\n",
        "\n",
        "def denormalize(data):\n",
        "    \"Takes a list or a list of lists and returns its denormalized form\"\n",
        "\n",
        "    return np.interp(data, [-1, 1], [0, 255])\n",
        "\n",
        "\n",
        "def visualize(array):\n",
        "    \"Visulaze a 2D array as an Image\"\n",
        "\n",
        "    img = Image.fromarray(array)\n",
        "    img.show(title=\"Visulizing array\")\n",
        "\n",
        "\n",
        "def set_limit(arrays, n):\n",
        "    \"Limit elements from each array up to n elements and return a single list\"\n",
        "    new = []\n",
        "    for array in arrays:\n",
        "        i = 0\n",
        "        for item in array:\n",
        "            if i == n:\n",
        "                break\n",
        "            new.append(item)\n",
        "            i += 1\n",
        "    return new\n",
        "\n",
        "\n",
        "def make_labels(N1, N2):\n",
        "    \"make labels from 0 to N1, each repeated N2 times\"\n",
        "    labels = []\n",
        "    for i in range(N1):\n",
        "        labels += [i] * N2\n",
        "    return labels"
      ],
      "metadata": {
        "id": "ixpebvkWrpXj"
      },
      "execution_count": null,
      "outputs": []
    },
    {
      "cell_type": "code",
      "source": [
        "# images need to be 28x28 for training with a ConvNet\n",
        "fruits = load(\"data/\", ['apple.npy'], reshaped=True)"
      ],
      "metadata": {
        "id": "25Kg-SNMtIS-"
      },
      "execution_count": null,
      "outputs": []
    },
    {
      "cell_type": "code",
      "source": [
        "\n",
        "import matplotlib.pyplot as plt\n",
        "plt.imshow(fruits[0][0])"
      ],
      "metadata": {
        "colab": {
          "base_uri": "https://localhost:8080/",
          "height": 447
        },
        "id": "UivOWfZ9t558",
        "outputId": "70fcb4a9-4544-45ad-91b7-38c4b29b8546"
      },
      "execution_count": null,
      "outputs": [
        {
          "output_type": "execute_result",
          "data": {
            "text/plain": [
              "<matplotlib.image.AxesImage at 0x7f351e112dd0>"
            ]
          },
          "metadata": {},
          "execution_count": 15
        },
        {
          "output_type": "display_data",
          "data": {
            "text/plain": [
              "<Figure size 640x480 with 1 Axes>"
            ],
            "image/png": "[encoded data removed]"
          },
          "metadata": {}
        }
      ]
    },
    {
      "cell_type": "code",
      "source": [
        "# images need to be 28x28 for training with a ConvNet\n",
        "fruits = load(\"data/\", FILES, reshaped=True)\n",
        "\n",
        "# images need to be flattened for training with an MLP\n",
        "# fruits = load(\"data/\", files, reshaped=False)\n",
        "\n",
        "\n",
        "# limit no of samples in each class to N\n",
        "fruits = set_limit(fruits, N)\n",
        "\n",
        "# normalize the values\n",
        "#fruits = map(normalize, fruits)\n",
        "\n",
        "# define the labels\n",
        "labels = make_labels(N_FRUITS, N)\n",
        "\n",
        "# prepare the data\n",
        "x_train, x_test, y_train, y_test = tts(fruits, labels, test_size=0.05)\n",
        "\n",
        "# one hot encoding\n",
        "Y_train = np_utils.to_categorical(y_train, N_FRUITS)\n",
        "Y_test = np_utils.to_categorical(y_test, N_FRUITS)\n"
      ],
      "metadata": {
        "id": "eib1670fvdVm"
      },
      "execution_count": null,
      "outputs": []
    },
    {
      "cell_type": "code",
      "source": [
        "model = Sequential()\n",
        "model.add(Conv2D(32, kernel_size=(3, 3), activation='relu', input_shape=(28,28,1)))\n",
        "model.add(Conv2D(64, (3, 3), activation='relu'))\n",
        "model.add(MaxPooling2D(pool_size=(2, 2)))\n",
        "model.add(Dropout(0.25))\n",
        "model.add(Flatten())\n",
        "model.add(Dense(128, activation='relu'))\n",
        "model.add(Dropout(0.5))\n",
        "model.add(Dense(N_FRUITS, activation='softmax'))"
      ],
      "metadata": {
        "id": "SfIPDA6KwYu8"
      },
      "execution_count": null,
      "outputs": []
    },
    {
      "cell_type": "code",
      "source": [
        "model.compile(loss='categorical_crossentropy',\n",
        "              optimizer='adam',\n",
        "              metrics=['accuracy'])"
      ],
      "metadata": {
        "id": "Y5jb46tayX5J"
      },
      "execution_count": null,
      "outputs": []
    },
    {
      "cell_type": "code",
      "source": [
        "history=model.fit(np.array(x_train), np.array(Y_train), batch_size=32, epochs=N_EPOCHS, verbose=1,validation_split=0.2 )"
      ],
      "metadata": {
        "colab": {
          "base_uri": "https://localhost:8080/"
        },
        "id": "FtQep49azuFf",
        "outputId": "4ea671eb-5669-4a5c-94ad-fc8d09891054"
      },
      "execution_count": null,
      "outputs": [
        {
          "output_type": "stream",
          "name": "stdout",
          "text": [
            "Epoch 1/15\n",
            "475/475 [==============================] - 47s 97ms/step - loss: 0.8734 - accuracy: 0.8459 - val_loss: 0.2154 - val_accuracy: 0.9326\n",
            "Epoch 2/15\n",
            "475/475 [==============================] - 46s 96ms/step - loss: 0.2754 - accuracy: 0.9124 - val_loss: 0.2046 - val_accuracy: 0.9382\n",
            "Epoch 3/15\n",
            "475/475 [==============================] - 46s 97ms/step - loss: 0.2273 - accuracy: 0.9301 - val_loss: 0.1717 - val_accuracy: 0.9453\n",
            "Epoch 4/15\n",
            "475/475 [==============================] - 44s 94ms/step - loss: 0.1904 - accuracy: 0.9408 - val_loss: 0.1525 - val_accuracy: 0.9539\n",
            "Epoch 5/15\n",
            "475/475 [==============================] - 46s 97ms/step - loss: 0.1593 - accuracy: 0.9483 - val_loss: 0.1515 - val_accuracy: 0.9518\n",
            "Epoch 6/15\n",
            "475/475 [==============================] - 44s 93ms/step - loss: 0.1336 - accuracy: 0.9564 - val_loss: 0.1705 - val_accuracy: 0.9526\n",
            "Epoch 7/15\n",
            "475/475 [==============================] - 46s 96ms/step - loss: 0.1234 - accuracy: 0.9585 - val_loss: 0.1454 - val_accuracy: 0.9553\n",
            "Epoch 8/15\n",
            "475/475 [==============================] - 44s 93ms/step - loss: 0.1110 - accuracy: 0.9645 - val_loss: 0.1763 - val_accuracy: 0.9516\n",
            "Epoch 9/15\n",
            "475/475 [==============================] - 46s 97ms/step - loss: 0.0995 - accuracy: 0.9659 - val_loss: 0.1646 - val_accuracy: 0.9576\n",
            "Epoch 10/15\n",
            "475/475 [==============================] - 45s 94ms/step - loss: 0.0955 - accuracy: 0.9682 - val_loss: 0.1635 - val_accuracy: 0.9566\n",
            "Epoch 11/15\n",
            "475/475 [==============================] - 46s 97ms/step - loss: 0.0879 - accuracy: 0.9689 - val_loss: 0.2039 - val_accuracy: 0.9539\n",
            "Epoch 12/15\n",
            "475/475 [==============================] - 44s 93ms/step - loss: 0.0839 - accuracy: 0.9722 - val_loss: 0.2079 - val_accuracy: 0.9534\n",
            "Epoch 13/15\n",
            "475/475 [==============================] - 46s 96ms/step - loss: 0.0776 - accuracy: 0.9729 - val_loss: 0.2072 - val_accuracy: 0.9571\n",
            "Epoch 14/15\n",
            "475/475 [==============================] - 44s 93ms/step - loss: 0.0722 - accuracy: 0.9772 - val_loss: 0.1999 - val_accuracy: 0.9603\n",
            "Epoch 15/15\n",
            "475/475 [==============================] - 46s 97ms/step - loss: 0.0742 - accuracy: 0.9740 - val_loss: 0.1760 - val_accuracy: 0.9595\n"
          ]
        }
      ]
    },
    {
      "cell_type": "code",
      "source": [
        "y_prob = model.predict(np.array (x_test))"
      ],
      "metadata": {
        "colab": {
          "base_uri": "https://localhost:8080/"
        },
        "id": "pTb7Hfu06Uob",
        "outputId": "bfee8667-8761-48cc-d3fc-37d6f07b1bda"
      },
      "execution_count": null,
      "outputs": [
        {
          "output_type": "stream",
          "name": "stdout",
          "text": [
            "32/32 [==============================] - 1s 19ms/step\n"
          ]
        }
      ]
    },
    {
      "cell_type": "code",
      "source": [
        "y_pred = y_prob.argmax(axis=1)"
      ],
      "metadata": {
        "id": "FNhFgqrW6sMf"
      },
      "execution_count": null,
      "outputs": []
    },
    {
      "cell_type": "code",
      "source": [
        "y_pred"
      ],
      "metadata": {
        "colab": {
          "base_uri": "https://localhost:8080/"
        },
        "id": "2ssGc83a6wZo",
        "outputId": "d0e851cb-2ed4-44f1-ff42-2fab191fb832"
      },
      "execution_count": null,
      "outputs": [
        {
          "output_type": "execute_result",
          "data": {
            "text/plain": [
              "array([2, 3, 3, 1, 3, 0, 3, 0, 0, 3, 0, 3, 1, 0, 3, 3, 0, 1, 2, 2, 2, 2,\n",
              "       1, 1, 3, 0, 0, 1, 0, 3, 3, 0, 3, 0, 2, 2, 2, 3, 3, 1, 3, 3, 3, 3,\n",
              "       3, 3, 0, 1, 0, 1, 3, 1, 1, 1, 3, 0, 1, 0, 1, 3, 1, 2, 3, 3, 3, 1,\n",
              "       3, 0, 3, 0, 2, 1, 0, 0, 0, 0, 3, 2, 0, 1, 3, 1, 1, 1, 3, 0, 0, 0,\n",
              "       0, 3, 0, 0, 2, 0, 1, 0, 0, 2, 3, 0, 3, 3, 3, 1, 2, 1, 0, 1, 1, 2,\n",
              "       1, 2, 2, 3, 3, 0, 3, 2, 0, 2, 3, 1, 1, 1, 0, 1, 3, 1, 0, 2, 3, 2,\n",
              "       2, 0, 1, 1, 1, 3, 2, 1, 2, 1, 2, 3, 0, 2, 1, 3, 0, 3, 3, 0, 3, 0,\n",
              "       3, 1, 1, 2, 1, 1, 1, 1, 1, 1, 2, 3, 1, 3, 0, 1, 0, 0, 3, 3, 3, 3,\n",
              "       3, 1, 2, 1, 0, 1, 3, 2, 1, 2, 3, 0, 3, 0, 0, 2, 1, 1, 0, 0, 0, 2,\n",
              "       0, 1, 0, 2, 0, 1, 3, 3, 2, 3, 1, 0, 3, 1, 0, 3, 0, 0, 2, 2, 3, 1,\n",
              "       1, 1, 0, 0, 1, 1, 0, 0, 0, 0, 0, 1, 0, 1, 3, 3, 3, 2, 3, 2, 1, 0,\n",
              "       0, 0, 0, 3, 0, 3, 3, 2, 2, 0, 3, 2, 1, 2, 0, 2, 1, 1, 3, 1, 3, 1,\n",
              "       3, 0, 2, 3, 0, 2, 0, 0, 3, 0, 2, 0, 0, 0, 3, 1, 0, 2, 0, 1, 2, 2,\n",
              "       2, 0, 3, 3, 3, 0, 0, 0, 2, 3, 1, 1, 2, 3, 2, 3, 0, 0, 1, 3, 1, 2,\n",
              "       0, 1, 0, 3, 3, 2, 2, 2, 0, 3, 1, 2, 3, 0, 1, 2, 3, 2, 1, 3, 1, 1,\n",
              "       1, 0, 0, 2, 3, 3, 1, 3, 2, 1, 2, 2, 0, 2, 1, 1, 1, 3, 0, 0, 0, 1,\n",
              "       1, 3, 3, 1, 2, 1, 1, 0, 2, 1, 2, 3, 3, 2, 0, 3, 1, 0, 3, 3, 3, 3,\n",
              "       0, 1, 2, 3, 2, 1, 1, 0, 0, 0, 0, 2, 3, 0, 1, 0, 3, 2, 2, 3, 2, 2,\n",
              "       0, 0, 2, 1, 1, 2, 3, 0, 1, 0, 0, 2, 1, 1, 0, 1, 0, 2, 0, 3, 1, 3,\n",
              "       2, 1, 2, 2, 2, 3, 0, 0, 3, 3, 3, 2, 3, 0, 0, 1, 1, 2, 2, 0, 1, 3,\n",
              "       2, 0, 1, 2, 0, 0, 1, 3, 0, 0, 1, 3, 2, 3, 2, 1, 2, 3, 3, 1, 3, 1,\n",
              "       1, 1, 1, 0, 1, 1, 1, 1, 3, 3, 3, 2, 1, 3, 0, 3, 2, 0, 3, 1, 0, 2,\n",
              "       3, 0, 1, 3, 0, 1, 1, 2, 0, 1, 1, 3, 0, 0, 3, 3, 0, 1, 3, 2, 1, 1,\n",
              "       1, 3, 3, 1, 1, 2, 2, 0, 3, 0, 0, 2, 0, 2, 3, 1, 3, 1, 1, 1, 1, 2,\n",
              "       2, 2, 1, 0, 2, 3, 1, 3, 2, 0, 1, 0, 1, 3, 0, 2, 1, 0, 2, 2, 0, 3,\n",
              "       2, 1, 0, 0, 3, 1, 3, 0, 2, 0, 3, 0, 1, 3, 2, 1, 0, 2, 0, 1, 2, 1,\n",
              "       2, 1, 3, 3, 0, 1, 3, 1, 1, 2, 1, 2, 3, 0, 2, 2, 0, 3, 2, 0, 1, 1,\n",
              "       2, 3, 2, 3, 2, 0, 2, 1, 3, 1, 1, 3, 1, 2, 2, 2, 1, 0, 1, 0, 1, 2,\n",
              "       2, 1, 0, 2, 3, 0, 1, 0, 1, 2, 1, 2, 3, 0, 1, 0, 3, 3, 1, 3, 2, 1,\n",
              "       3, 1, 3, 3, 3, 3, 1, 3, 3, 1, 2, 1, 3, 2, 3, 2, 3, 2, 0, 2, 0, 3,\n",
              "       3, 0, 2, 2, 0, 2, 3, 2, 1, 1, 1, 1, 0, 3, 0, 1, 3, 2, 0, 1, 0, 3,\n",
              "       3, 1, 2, 3, 2, 3, 2, 1, 3, 1, 2, 0, 0, 0, 2, 3, 2, 1, 0, 3, 1, 3,\n",
              "       3, 3, 0, 3, 2, 3, 3, 3, 3, 3, 2, 1, 2, 2, 1, 0, 0, 1, 2, 2, 1, 2,\n",
              "       2, 3, 0, 1, 2, 2, 1, 1, 0, 3, 1, 2, 3, 2, 0, 0, 2, 0, 1, 1, 0, 0,\n",
              "       2, 3, 2, 3, 1, 2, 3, 3, 3, 1, 0, 0, 2, 1, 1, 2, 2, 0, 0, 1, 2, 3,\n",
              "       2, 0, 3, 0, 0, 0, 3, 1, 2, 2, 0, 1, 2, 1, 1, 0, 3, 0, 3, 3, 0, 2,\n",
              "       2, 2, 0, 0, 1, 3, 2, 2, 2, 0, 2, 0, 0, 3, 0, 3, 2, 1, 2, 0, 1, 0,\n",
              "       3, 0, 1, 3, 0, 1, 1, 3, 3, 1, 2, 3, 0, 3, 2, 2, 1, 0, 0, 0, 3, 2,\n",
              "       0, 1, 1, 1, 0, 2, 3, 3, 0, 2, 1, 0, 1, 0, 3, 1, 3, 1, 0, 0, 0, 2,\n",
              "       1, 2, 1, 0, 0, 0, 3, 0, 0, 1, 0, 2, 2, 3, 2, 0, 1, 3, 1, 1, 3, 2,\n",
              "       1, 0, 0, 2, 1, 0, 0, 3, 3, 3, 0, 0, 0, 1, 3, 3, 0, 2, 1, 3, 3, 2,\n",
              "       3, 0, 0, 2, 1, 0, 1, 3, 2, 3, 2, 0, 0, 0, 3, 1, 2, 3, 2, 1, 1, 1,\n",
              "       2, 1, 0, 2, 2, 1, 1, 1, 2, 2, 1, 0, 3, 2, 1, 0, 1, 1, 3, 1, 2, 3,\n",
              "       1, 0, 0, 0, 1, 1, 2, 0, 1, 1, 2, 2, 1, 0, 1, 3, 3, 2, 2, 1, 2, 2,\n",
              "       0, 3, 2, 3, 3, 3, 2, 3, 0, 1, 0, 2, 0, 3, 2, 0, 0, 0, 3, 1, 0, 3,\n",
              "       3, 0, 1, 0, 1, 1, 2, 3, 2, 1])"
            ]
          },
          "metadata": {},
          "execution_count": 22
        }
      ]
    },
    {
      "cell_type": "code",
      "source": [
        "from sklearn.metrics import accuracy_score\n",
        "accuracy_score(np.array(y_test),y_pred)"
      ],
      "metadata": {
        "colab": {
          "base_uri": "https://localhost:8080/"
        },
        "id": "q-VOA3x160eg",
        "outputId": "abc4932d-c809-4a51-f8ae-d83397abfcd4"
      },
      "execution_count": null,
      "outputs": [
        {
          "output_type": "execute_result",
          "data": {
            "text/plain": [
              "0.961"
            ]
          },
          "metadata": {},
          "execution_count": 31
        }
      ]
    },
    {
      "cell_type": "code",
      "source": [
        "plt.plot(history.history['loss'])\n",
        "plt.plot(history.history['val_loss'])"
      ],
      "metadata": {
        "colab": {
          "base_uri": "https://localhost:8080/",
          "height": 447
        },
        "id": "SXpfORGG66ad",
        "outputId": "4f1b692e-0d08-40e9-bc4a-dfecafb18f15"
      },
      "execution_count": null,
      "outputs": [
        {
          "output_type": "execute_result",
          "data": {
            "text/plain": [
              "[<matplotlib.lines.Line2D at 0x7f35163f7040>]"
            ]
          },
          "metadata": {},
          "execution_count": 29
        },
        {
          "output_type": "display_data",
          "data": {
            "text/plain": [
              "<Figure size 640x480 with 1 Axes>"
            ],
            "image/png": "[encoded data removed]"
          },
          "metadata": {}
        }
      ]
    },
    {
      "cell_type": "code",
      "source": [
        "plt.plot(history.history['accuracy'])\n",
        "plt.plot(history.history['val_accuracy'])"
      ],
      "metadata": {
        "colab": {
          "base_uri": "https://localhost:8080/",
          "height": 447
        },
        "id": "nJhbZkwQ7A3U",
        "outputId": "0b5f947c-1d26-47bd-c106-13ad5837a4aa"
      },
      "execution_count": null,
      "outputs": [
        {
          "output_type": "execute_result",
          "data": {
            "text/plain": [
              "[<matplotlib.lines.Line2D at 0x7f3515fac400>]"
            ]
          },
          "metadata": {},
          "execution_count": 30
        },
        {
          "output_type": "display_data",
          "data": {
            "text/plain": [
              "<Figure size 640x480 with 1 Axes>"
            ],
            "image/png": "[encoded data removed]"
          },
          "metadata": {}
        }
      ]
    },
    {
      "cell_type": "code",
      "source": [
        "plt.imshow(x_test[7])"
      ],
      "metadata": {
        "colab": {
          "base_uri": "https://localhost:8080/",
          "height": 447
        },
        "id": "IgNFBmmD7Sd_",
        "outputId": "35abcde6-ecd2-45ed-a21a-d755ed43f860"
      },
      "execution_count": null,
      "outputs": [
        {
          "output_type": "execute_result",
          "data": {
            "text/plain": [
              "<matplotlib.image.AxesImage at 0x7f34fd7aebc0>"
            ]
          },
          "metadata": {},
          "execution_count": 35
        },
        {
          "output_type": "display_data",
          "data": {
            "text/plain": [
              "<Figure size 640x480 with 1 Axes>"
            ],
            "image/png": "[encoded data removed]"
          },
          "metadata": {}
        }
      ]
    },
    {
      "cell_type": "code",
      "source": [
        "pred = FRUITS[np.argmax(model.predict(np.array([x_test[7]])))]\n",
        "actual = FRUITS[y_test[7]]\n",
        "print (\"Actual:\", actual)\n",
        "print (\"Predicted:\", pred)"
      ],
      "metadata": {
        "colab": {
          "base_uri": "https://localhost:8080/"
        },
        "id": "Y6R9Fcp67ZHF",
        "outputId": "ec58aeb0-25ed-43e5-fa08-62fb1998bc54"
      },
      "execution_count": null,
      "outputs": [
        {
          "output_type": "stream",
          "name": "stdout",
          "text": [
            "1/1 [==============================] - 0s 114ms/step\n",
            "Actual: apple\n",
            "Predicted: apple\n"
          ]
        }
      ]
    },
    {
      "cell_type": "code",
      "source": [
        "model.save(\"fruits.h5\")"
      ],
      "metadata": {
        "id": "mLVPYSxj-AzS"
      },
      "execution_count": null,
      "outputs": []
    }
  ]
}